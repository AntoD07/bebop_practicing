{
 "cells": [
  {
   "cell_type": "code",
   "execution_count": 2,
   "metadata": {},
   "outputs": [
    {
     "name": "stdout",
     "output_type": "stream",
     "text": [
      "7\n",
      "False\n",
      "old number  7\n",
      "new number  2\n",
      "6\n",
      "False\n",
      "old number  6\n",
      "new number  1\n",
      "#5\n",
      "True\n",
      "old number  5\n",
      "new number  7\n",
      "#4\n",
      "True\n",
      "old number  4\n",
      "new number  6\n",
      "5\n",
      "False\n",
      "old number  5\n",
      "new number  7\n",
      "3\n",
      "False\n",
      "old number  3\n",
      "new number  7\n",
      "9\n",
      "False\n",
      "old number  9\n",
      "new number  6\n",
      "b7\n",
      "True\n",
      "old number  7\n",
      "new number  4\n",
      "7\n",
      "False\n",
      "old number  7\n",
      "new number  4\n",
      "9\n",
      "False\n",
      "old number  9\n",
      "new number  6\n",
      "Translated Lydian Augmented Enclosure: ['2', '1', '#7', '#6', '7']\n",
      "Translated Lyrical Enclosure: ['7', '6', 'b4', '4', '6']\n"
     ]
    }
   ],
   "source": [
    "\n",
    "\n",
    "# Example Usage\n",
    "lydian_augmented_enclosure = [\"7\", \"6\", \"#5\", \"#4\", \"5\"]\n",
    "lyrical_enclosure = [\"3\", \"9\", \"b7\", \"7\", \"9\"]\n",
    "\n",
    "# Example shifts: assume we're shifting Lydian augmented by +2 and Lyrical by -3 for demonstration\n",
    "translated_lydian = translate_note_cells(lydian_augmented_enclosure, 2)\n",
    "translated_lyrical = translate_note_cells(lyrical_enclosure, -3)\n",
    "\n",
    "print(\"Translated Lydian Augmented Enclosure:\", translated_lydian)\n",
    "print(\"Translated Lyrical Enclosure:\", translated_lyrical)"
   ]
  },
  {
   "cell_type": "code",
   "execution_count": null,
   "metadata": {},
   "outputs": [],
   "source": [
    "sorted_dict = {key: value for key, value in sorted(cells[1].items())}\n",
    "with open(\"7sus4.json\", \"w\") as f:\n",
    "    json.dump(sorted_dict, f)"
   ]
  },
  {
   "cell_type": "code",
   "execution_count": null,
   "metadata": {},
   "outputs": [],
   "source": []
  }
 ],
 "metadata": {
  "kernelspec": {
   "display_name": "anto310",
   "language": "python",
   "name": "python3"
  },
  "language_info": {
   "codemirror_mode": {
    "name": "ipython",
    "version": 3
   },
   "file_extension": ".py",
   "mimetype": "text/x-python",
   "name": "python",
   "nbconvert_exporter": "python",
   "pygments_lexer": "ipython3",
   "version": "3.10.14"
  }
 },
 "nbformat": 4,
 "nbformat_minor": 2
}
