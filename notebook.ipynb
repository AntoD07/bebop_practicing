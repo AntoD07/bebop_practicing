{
 "cells": [
  {
   "cell_type": "code",
   "execution_count": 6,
   "metadata": {},
   "outputs": [],
   "source": [
    "from scripts.main_fcts import create_cell_frames\n",
    "from scripts.modes.mode_transposition import (\n",
    "    translate_sus4_to_other_mode,\n",
    "    translate_loc_to_dominant,\n",
    "    translate_dom_to_minor,\n",
    ")\n",
    "\n",
    "df, _, _ = create_cell_frames(\n",
    "    \"Locrian\",\n",
    "    False,\n",
    "    True,\n",
    "    True,\n",
    "    field=\"Start Note\",\n",
    "    loc_to_dominant=True,\n",
    "    dom_to_minor=True,\n",
    ")"
   ]
  },
  {
   "cell_type": "code",
   "execution_count": 7,
   "metadata": {},
   "outputs": [],
   "source": [
    "df[\"Movement\"] = 'N'\n",
    "df[\"Type\"] = \"Essential\"\n"
   ]
  },
  {
   "cell_type": "code",
   "execution_count": 8,
   "metadata": {},
   "outputs": [
    {
     "name": "stdout",
     "output_type": "stream",
     "text": [
      "<class 'pandas.core.frame.DataFrame'>\n",
      "Index: 22 entries, Arpeggio to chromatic Arpeggio to Super Locrian scale (from #9)\n",
      "Data columns (total 9 columns):\n",
      " #   Column        Non-Null Count  Dtype  \n",
      "---  ------        --------------  -----  \n",
      " 0   Unnamed: 1    0 non-null      float64\n",
      " 1   Start Note    22 non-null     object \n",
      " 2   End Note      22 non-null     object \n",
      " 3   Notes         22 non-null     object \n",
      " 4   Modes         22 non-null     object \n",
      " 5   Mode scores   22 non-null     object \n",
      " 6   Sample Count  22 non-null     object \n",
      " 7   Type          22 non-null     object \n",
      " 8   Movement      22 non-null     object \n",
      "dtypes: float64(1), object(8)\n",
      "memory usage: 1.7+ KB\n"
     ]
    }
   ],
   "source": [
    "df.info()"
   ]
  },
  {
   "cell_type": "code",
   "execution_count": 9,
   "metadata": {},
   "outputs": [],
   "source": [
    "df = translate_dom_to_minor(df)"
   ]
  },
  {
   "cell_type": "code",
   "execution_count": 10,
   "metadata": {},
   "outputs": [],
   "source": [
    "df.to_csv(\"MinorResolutions_sampling.csv\")"
   ]
  },
  {
   "cell_type": "code",
   "execution_count": null,
   "metadata": {},
   "outputs": [],
   "source": [
    "sorted_dict = {key: value for key, value in sorted(cells[1].items())}\n",
    "with open(\"7sus4.json\", \"w\") as f:\n",
    "    json.dump(sorted_dict, f)"
   ]
  },
  {
   "cell_type": "code",
   "execution_count": null,
   "metadata": {},
   "outputs": [],
   "source": []
  }
 ],
 "metadata": {
  "kernelspec": {
   "display_name": "anto310",
   "language": "python",
   "name": "python3"
  },
  "language_info": {
   "codemirror_mode": {
    "name": "ipython",
    "version": 3
   },
   "file_extension": ".py",
   "mimetype": "text/x-python",
   "name": "python",
   "nbconvert_exporter": "python",
   "pygments_lexer": "ipython3",
   "version": "3.10.14"
  }
 },
 "nbformat": 4,
 "nbformat_minor": 2
}
